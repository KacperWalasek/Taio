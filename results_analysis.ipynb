{
 "cells": [
  {
   "cell_type": "code",
   "execution_count": 3,
   "metadata": {
    "collapsed": true,
    "pycharm": {
     "name": "#%%\n"
    }
   },
   "outputs": [],
   "source": [
    "import pandas as pd\n",
    "%matplotlib inline"
   ]
  },
  {
   "cell_type": "code",
   "execution_count": 41,
   "outputs": [],
   "source": [
    "dataset = \"UWaveGestureLibrary\""
   ],
   "metadata": {
    "collapsed": false,
    "pycharm": {
     "name": "#%%\n"
    }
   }
  },
  {
   "cell_type": "code",
   "execution_count": 42,
   "outputs": [],
   "source": [
    "df = pd.read_csv(f\"results/{dataset}.csv\")"
   ],
   "metadata": {
    "collapsed": false,
    "pycharm": {
     "name": "#%%\n"
    }
   }
  },
  {
   "cell_type": "code",
   "execution_count": 43,
   "outputs": [
    {
     "name": "stdout",
     "output_type": "stream",
     "text": [
      "<class 'pandas.core.frame.DataFrame'>\n",
      "RangeIndex: 44 entries, 0 to 43\n",
      "Data columns (total 17 columns):\n",
      " #   Column                                      Non-Null Count  Dtype  \n",
      "---  ------                                      --------------  -----  \n",
      " 0   method                                      44 non-null     object \n",
      " 1   series_length_fraction                      44 non-null     float64\n",
      " 2   train_acc                                   44 non-null     float64\n",
      " 3   test_acc                                    44 non-null     float64\n",
      " 4   baseclassifier_movingwindowsize             44 non-null     int64  \n",
      " 5   baseclassifier_movingwindowstride           44 non-null     int64  \n",
      " 6   baseclassifier_fcmconceptcount              44 non-null     int64  \n",
      " 7   fuzzycmeans_m                               44 non-null     int64  \n",
      " 8   fuzzycmeans_error                           44 non-null     float64\n",
      " 9   fuzzycmeans_maxiter                         44 non-null     float64\n",
      " 10  geneticalgorithm_maxnumiteration            44 non-null     int64  \n",
      " 11  geneticalgorithm_populationsize             44 non-null     int64  \n",
      " 12  geneticalgorithm_maxiterationwithoutimprov  44 non-null     int64  \n",
      " 13  geneticalgorithm_mutationprobability        44 non-null     float64\n",
      " 14  geneticalgorithmrun_noplot                  44 non-null     bool   \n",
      " 15  geneticalgorithmrun_disableprinting         44 non-null     bool   \n",
      " 16  geneticalgorithmrun_disableprogressbar      44 non-null     bool   \n",
      "dtypes: bool(3), float64(6), int64(7), object(1)\n",
      "memory usage: 5.1+ KB\n"
     ]
    }
   ],
   "source": [
    "df.info()"
   ],
   "metadata": {
    "collapsed": false,
    "pycharm": {
     "name": "#%%\n"
    }
   }
  },
  {
   "cell_type": "code",
   "execution_count": 44,
   "outputs": [
    {
     "data": {
      "text/plain": "      method  series_length_fraction  train_acc  test_acc  \\\n0   1_vs_all                     1.0   0.417411  0.386376   \n4   1_vs_all                     1.0   0.517857  0.460357   \n8   1_vs_all                     1.0   0.523438  0.462312   \n12  1_vs_all                     1.0   0.501116  0.438582   \n16  1_vs_all                     1.0   0.448661  0.391960   \n20  1_vs_all                     1.0   0.468750  0.412060   \n24  1_vs_all                     1.0   0.510045  0.448911   \n28  1_vs_all                     1.0   0.485491  0.431044   \n32  1_vs_all                     1.0   0.484375  0.420436   \n36  1_vs_all                     1.0   0.517857  0.457845   \n40  1_vs_all                     1.0   0.530134  0.480458   \n\n    baseclassifier_movingwindowsize  baseclassifier_movingwindowstride  \\\n0                                 3                                  1   \n4                                 6                                  1   \n8                                 9                                  1   \n12                               12                                  1   \n16                                3                                  1   \n20                                6                                  1   \n24                                9                                  1   \n28                               12                                  1   \n32                                3                                  1   \n36                                6                                  1   \n40                                9                                  1   \n\n    baseclassifier_fcmconceptcount  fuzzycmeans_m  fuzzycmeans_error  \\\n0                                8              2       1.000000e-08   \n4                                8              2       1.000000e-08   \n8                                8              2       1.000000e-08   \n12                               8              2       1.000000e-08   \n16                              10              2       1.000000e-08   \n20                              10              2       1.000000e-08   \n24                              10              2       1.000000e-08   \n28                              10              2       1.000000e-08   \n32                              16              2       1.000000e-08   \n36                              16              2       1.000000e-08   \n40                              16              2       1.000000e-08   \n\n    fuzzycmeans_maxiter  geneticalgorithm_maxnumiteration  \\\n0             1000000.0                               800   \n4             1000000.0                               800   \n8             1000000.0                               800   \n12            1000000.0                               800   \n16            1000000.0                               800   \n20            1000000.0                               800   \n24            1000000.0                               800   \n28            1000000.0                               800   \n32            1000000.0                               800   \n36            1000000.0                               800   \n40            1000000.0                               800   \n\n    geneticalgorithm_populationsize  \\\n0                               800   \n4                               800   \n8                               800   \n12                              800   \n16                              800   \n20                              800   \n24                              800   \n28                              800   \n32                              800   \n36                              800   \n40                              800   \n\n    geneticalgorithm_maxiterationwithoutimprov  \\\n0                                           50   \n4                                           50   \n8                                           50   \n12                                          50   \n16                                          50   \n20                                          50   \n24                                          50   \n28                                          50   \n32                                          50   \n36                                          50   \n40                                          50   \n\n    geneticalgorithm_mutationprobability  geneticalgorithmrun_noplot  \\\n0                                   0.05                        True   \n4                                   0.05                        True   \n8                                   0.05                        True   \n12                                  0.05                        True   \n16                                  0.05                        True   \n20                                  0.05                        True   \n24                                  0.05                        True   \n28                                  0.05                        True   \n32                                  0.05                        True   \n36                                  0.05                        True   \n40                                  0.05                        True   \n\n    geneticalgorithmrun_disableprinting  \\\n0                                  True   \n4                                  True   \n8                                  True   \n12                                 True   \n16                                 True   \n20                                 True   \n24                                 True   \n28                                 True   \n32                                 True   \n36                                 True   \n40                                 True   \n\n    geneticalgorithmrun_disableprogressbar  \n0                                     True  \n4                                     True  \n8                                     True  \n12                                    True  \n16                                    True  \n20                                    True  \n24                                    True  \n28                                    True  \n32                                    True  \n36                                    True  \n40                                    True  ",
      "text/html": "<div>\n<style scoped>\n    .dataframe tbody tr th:only-of-type {\n        vertical-align: middle;\n    }\n\n    .dataframe tbody tr th {\n        vertical-align: top;\n    }\n\n    .dataframe thead th {\n        text-align: right;\n    }\n</style>\n<table border=\"1\" class=\"dataframe\">\n  <thead>\n    <tr style=\"text-align: right;\">\n      <th></th>\n      <th>method</th>\n      <th>series_length_fraction</th>\n      <th>train_acc</th>\n      <th>test_acc</th>\n      <th>baseclassifier_movingwindowsize</th>\n      <th>baseclassifier_movingwindowstride</th>\n      <th>baseclassifier_fcmconceptcount</th>\n      <th>fuzzycmeans_m</th>\n      <th>fuzzycmeans_error</th>\n      <th>fuzzycmeans_maxiter</th>\n      <th>geneticalgorithm_maxnumiteration</th>\n      <th>geneticalgorithm_populationsize</th>\n      <th>geneticalgorithm_maxiterationwithoutimprov</th>\n      <th>geneticalgorithm_mutationprobability</th>\n      <th>geneticalgorithmrun_noplot</th>\n      <th>geneticalgorithmrun_disableprinting</th>\n      <th>geneticalgorithmrun_disableprogressbar</th>\n    </tr>\n  </thead>\n  <tbody>\n    <tr>\n      <th>0</th>\n      <td>1_vs_all</td>\n      <td>1.0</td>\n      <td>0.417411</td>\n      <td>0.386376</td>\n      <td>3</td>\n      <td>1</td>\n      <td>8</td>\n      <td>2</td>\n      <td>1.000000e-08</td>\n      <td>1000000.0</td>\n      <td>800</td>\n      <td>800</td>\n      <td>50</td>\n      <td>0.05</td>\n      <td>True</td>\n      <td>True</td>\n      <td>True</td>\n    </tr>\n    <tr>\n      <th>4</th>\n      <td>1_vs_all</td>\n      <td>1.0</td>\n      <td>0.517857</td>\n      <td>0.460357</td>\n      <td>6</td>\n      <td>1</td>\n      <td>8</td>\n      <td>2</td>\n      <td>1.000000e-08</td>\n      <td>1000000.0</td>\n      <td>800</td>\n      <td>800</td>\n      <td>50</td>\n      <td>0.05</td>\n      <td>True</td>\n      <td>True</td>\n      <td>True</td>\n    </tr>\n    <tr>\n      <th>8</th>\n      <td>1_vs_all</td>\n      <td>1.0</td>\n      <td>0.523438</td>\n      <td>0.462312</td>\n      <td>9</td>\n      <td>1</td>\n      <td>8</td>\n      <td>2</td>\n      <td>1.000000e-08</td>\n      <td>1000000.0</td>\n      <td>800</td>\n      <td>800</td>\n      <td>50</td>\n      <td>0.05</td>\n      <td>True</td>\n      <td>True</td>\n      <td>True</td>\n    </tr>\n    <tr>\n      <th>12</th>\n      <td>1_vs_all</td>\n      <td>1.0</td>\n      <td>0.501116</td>\n      <td>0.438582</td>\n      <td>12</td>\n      <td>1</td>\n      <td>8</td>\n      <td>2</td>\n      <td>1.000000e-08</td>\n      <td>1000000.0</td>\n      <td>800</td>\n      <td>800</td>\n      <td>50</td>\n      <td>0.05</td>\n      <td>True</td>\n      <td>True</td>\n      <td>True</td>\n    </tr>\n    <tr>\n      <th>16</th>\n      <td>1_vs_all</td>\n      <td>1.0</td>\n      <td>0.448661</td>\n      <td>0.391960</td>\n      <td>3</td>\n      <td>1</td>\n      <td>10</td>\n      <td>2</td>\n      <td>1.000000e-08</td>\n      <td>1000000.0</td>\n      <td>800</td>\n      <td>800</td>\n      <td>50</td>\n      <td>0.05</td>\n      <td>True</td>\n      <td>True</td>\n      <td>True</td>\n    </tr>\n    <tr>\n      <th>20</th>\n      <td>1_vs_all</td>\n      <td>1.0</td>\n      <td>0.468750</td>\n      <td>0.412060</td>\n      <td>6</td>\n      <td>1</td>\n      <td>10</td>\n      <td>2</td>\n      <td>1.000000e-08</td>\n      <td>1000000.0</td>\n      <td>800</td>\n      <td>800</td>\n      <td>50</td>\n      <td>0.05</td>\n      <td>True</td>\n      <td>True</td>\n      <td>True</td>\n    </tr>\n    <tr>\n      <th>24</th>\n      <td>1_vs_all</td>\n      <td>1.0</td>\n      <td>0.510045</td>\n      <td>0.448911</td>\n      <td>9</td>\n      <td>1</td>\n      <td>10</td>\n      <td>2</td>\n      <td>1.000000e-08</td>\n      <td>1000000.0</td>\n      <td>800</td>\n      <td>800</td>\n      <td>50</td>\n      <td>0.05</td>\n      <td>True</td>\n      <td>True</td>\n      <td>True</td>\n    </tr>\n    <tr>\n      <th>28</th>\n      <td>1_vs_all</td>\n      <td>1.0</td>\n      <td>0.485491</td>\n      <td>0.431044</td>\n      <td>12</td>\n      <td>1</td>\n      <td>10</td>\n      <td>2</td>\n      <td>1.000000e-08</td>\n      <td>1000000.0</td>\n      <td>800</td>\n      <td>800</td>\n      <td>50</td>\n      <td>0.05</td>\n      <td>True</td>\n      <td>True</td>\n      <td>True</td>\n    </tr>\n    <tr>\n      <th>32</th>\n      <td>1_vs_all</td>\n      <td>1.0</td>\n      <td>0.484375</td>\n      <td>0.420436</td>\n      <td>3</td>\n      <td>1</td>\n      <td>16</td>\n      <td>2</td>\n      <td>1.000000e-08</td>\n      <td>1000000.0</td>\n      <td>800</td>\n      <td>800</td>\n      <td>50</td>\n      <td>0.05</td>\n      <td>True</td>\n      <td>True</td>\n      <td>True</td>\n    </tr>\n    <tr>\n      <th>36</th>\n      <td>1_vs_all</td>\n      <td>1.0</td>\n      <td>0.517857</td>\n      <td>0.457845</td>\n      <td>6</td>\n      <td>1</td>\n      <td>16</td>\n      <td>2</td>\n      <td>1.000000e-08</td>\n      <td>1000000.0</td>\n      <td>800</td>\n      <td>800</td>\n      <td>50</td>\n      <td>0.05</td>\n      <td>True</td>\n      <td>True</td>\n      <td>True</td>\n    </tr>\n    <tr>\n      <th>40</th>\n      <td>1_vs_all</td>\n      <td>1.0</td>\n      <td>0.530134</td>\n      <td>0.480458</td>\n      <td>9</td>\n      <td>1</td>\n      <td>16</td>\n      <td>2</td>\n      <td>1.000000e-08</td>\n      <td>1000000.0</td>\n      <td>800</td>\n      <td>800</td>\n      <td>50</td>\n      <td>0.05</td>\n      <td>True</td>\n      <td>True</td>\n      <td>True</td>\n    </tr>\n  </tbody>\n</table>\n</div>"
     },
     "execution_count": 44,
     "metadata": {},
     "output_type": "execute_result"
    }
   ],
   "source": [
    "df[df.series_length_fraction == 1.0]"
   ],
   "metadata": {
    "collapsed": false,
    "pycharm": {
     "name": "#%%\n"
    }
   }
  },
  {
   "cell_type": "code",
   "execution_count": 45,
   "outputs": [
    {
     "data": {
      "text/plain": "                                                                                                                                 train_acc  \\\n                                                                                                                                      mean   \nmethod   series_length_fraction baseclassifier_movingwindowsize baseclassifier_movingwindowstride baseclassifier_fcmconceptcount             \n1_vs_all 1.0                    3                               1                                 8                               0.417411   \n                                                                                                  10                              0.448661   \n                                                                                                  16                              0.484375   \n                                6                               1                                 8                               0.517857   \n                                                                                                  10                              0.468750   \n                                                                                                  16                              0.517857   \n                                9                               1                                 8                               0.523438   \n                                                                                                  10                              0.510045   \n                                                                                                  16                              0.530134   \n                                12                              1                                 8                               0.501116   \n                                                                                                  10                              0.485491   \n\n                                                                                                                                      \\\n                                                                                                                                 std   \nmethod   series_length_fraction baseclassifier_movingwindowsize baseclassifier_movingwindowstride baseclassifier_fcmconceptcount       \n1_vs_all 1.0                    3                               1                                 8                              NaN   \n                                                                                                  10                             NaN   \n                                                                                                  16                             NaN   \n                                6                               1                                 8                              NaN   \n                                                                                                  10                             NaN   \n                                                                                                  16                             NaN   \n                                9                               1                                 8                              NaN   \n                                                                                                  10                             NaN   \n                                                                                                  16                             NaN   \n                                12                              1                                 8                              NaN   \n                                                                                                  10                             NaN   \n\n                                                                                                                                  test_acc  \\\n                                                                                                                                      mean   \nmethod   series_length_fraction baseclassifier_movingwindowsize baseclassifier_movingwindowstride baseclassifier_fcmconceptcount             \n1_vs_all 1.0                    3                               1                                 8                               0.386376   \n                                                                                                  10                              0.391960   \n                                                                                                  16                              0.420436   \n                                6                               1                                 8                               0.460357   \n                                                                                                  10                              0.412060   \n                                                                                                  16                              0.457845   \n                                9                               1                                 8                               0.462312   \n                                                                                                  10                              0.448911   \n                                                                                                  16                              0.480458   \n                                12                              1                                 8                               0.438582   \n                                                                                                  10                              0.431044   \n\n                                                                                                                                      \n                                                                                                                                 std  \nmethod   series_length_fraction baseclassifier_movingwindowsize baseclassifier_movingwindowstride baseclassifier_fcmconceptcount      \n1_vs_all 1.0                    3                               1                                 8                              NaN  \n                                                                                                  10                             NaN  \n                                                                                                  16                             NaN  \n                                6                               1                                 8                              NaN  \n                                                                                                  10                             NaN  \n                                                                                                  16                             NaN  \n                                9                               1                                 8                              NaN  \n                                                                                                  10                             NaN  \n                                                                                                  16                             NaN  \n                                12                              1                                 8                              NaN  \n                                                                                                  10                             NaN  ",
      "text/html": "<div>\n<style scoped>\n    .dataframe tbody tr th:only-of-type {\n        vertical-align: middle;\n    }\n\n    .dataframe tbody tr th {\n        vertical-align: top;\n    }\n\n    .dataframe thead tr th {\n        text-align: left;\n    }\n\n    .dataframe thead tr:last-of-type th {\n        text-align: right;\n    }\n</style>\n<table border=\"1\" class=\"dataframe\">\n  <thead>\n    <tr>\n      <th></th>\n      <th></th>\n      <th></th>\n      <th></th>\n      <th></th>\n      <th colspan=\"2\" halign=\"left\">train_acc</th>\n      <th colspan=\"2\" halign=\"left\">test_acc</th>\n    </tr>\n    <tr>\n      <th></th>\n      <th></th>\n      <th></th>\n      <th></th>\n      <th></th>\n      <th>mean</th>\n      <th>std</th>\n      <th>mean</th>\n      <th>std</th>\n    </tr>\n    <tr>\n      <th>method</th>\n      <th>series_length_fraction</th>\n      <th>baseclassifier_movingwindowsize</th>\n      <th>baseclassifier_movingwindowstride</th>\n      <th>baseclassifier_fcmconceptcount</th>\n      <th></th>\n      <th></th>\n      <th></th>\n      <th></th>\n    </tr>\n  </thead>\n  <tbody>\n    <tr>\n      <th rowspan=\"11\" valign=\"top\">1_vs_all</th>\n      <th rowspan=\"11\" valign=\"top\">1.0</th>\n      <th rowspan=\"3\" valign=\"top\">3</th>\n      <th rowspan=\"3\" valign=\"top\">1</th>\n      <th>8</th>\n      <td>0.417411</td>\n      <td>NaN</td>\n      <td>0.386376</td>\n      <td>NaN</td>\n    </tr>\n    <tr>\n      <th>10</th>\n      <td>0.448661</td>\n      <td>NaN</td>\n      <td>0.391960</td>\n      <td>NaN</td>\n    </tr>\n    <tr>\n      <th>16</th>\n      <td>0.484375</td>\n      <td>NaN</td>\n      <td>0.420436</td>\n      <td>NaN</td>\n    </tr>\n    <tr>\n      <th rowspan=\"3\" valign=\"top\">6</th>\n      <th rowspan=\"3\" valign=\"top\">1</th>\n      <th>8</th>\n      <td>0.517857</td>\n      <td>NaN</td>\n      <td>0.460357</td>\n      <td>NaN</td>\n    </tr>\n    <tr>\n      <th>10</th>\n      <td>0.468750</td>\n      <td>NaN</td>\n      <td>0.412060</td>\n      <td>NaN</td>\n    </tr>\n    <tr>\n      <th>16</th>\n      <td>0.517857</td>\n      <td>NaN</td>\n      <td>0.457845</td>\n      <td>NaN</td>\n    </tr>\n    <tr>\n      <th rowspan=\"3\" valign=\"top\">9</th>\n      <th rowspan=\"3\" valign=\"top\">1</th>\n      <th>8</th>\n      <td>0.523438</td>\n      <td>NaN</td>\n      <td>0.462312</td>\n      <td>NaN</td>\n    </tr>\n    <tr>\n      <th>10</th>\n      <td>0.510045</td>\n      <td>NaN</td>\n      <td>0.448911</td>\n      <td>NaN</td>\n    </tr>\n    <tr>\n      <th>16</th>\n      <td>0.530134</td>\n      <td>NaN</td>\n      <td>0.480458</td>\n      <td>NaN</td>\n    </tr>\n    <tr>\n      <th rowspan=\"2\" valign=\"top\">12</th>\n      <th rowspan=\"2\" valign=\"top\">1</th>\n      <th>8</th>\n      <td>0.501116</td>\n      <td>NaN</td>\n      <td>0.438582</td>\n      <td>NaN</td>\n    </tr>\n    <tr>\n      <th>10</th>\n      <td>0.485491</td>\n      <td>NaN</td>\n      <td>0.431044</td>\n      <td>NaN</td>\n    </tr>\n  </tbody>\n</table>\n</div>"
     },
     "execution_count": 45,
     "metadata": {},
     "output_type": "execute_result"
    }
   ],
   "source": [
    "df[df.series_length_fraction == 1.0].groupby([\"method\", \"series_length_fraction\", \"baseclassifier_movingwindowsize\", \"baseclassifier_movingwindowstride\", \"baseclassifier_fcmconceptcount\"])[['train_acc', 'test_acc']].agg(['mean', 'std'])"
   ],
   "metadata": {
    "collapsed": false,
    "pycharm": {
     "name": "#%%\n"
    }
   }
  },
  {
   "cell_type": "code",
   "execution_count": null,
   "outputs": [],
   "source": [],
   "metadata": {
    "collapsed": false,
    "pycharm": {
     "name": "#%%\n"
    }
   }
  }
 ],
 "metadata": {
  "kernelspec": {
   "display_name": "Python 3",
   "language": "python",
   "name": "python3"
  },
  "language_info": {
   "codemirror_mode": {
    "name": "ipython",
    "version": 2
   },
   "file_extension": ".py",
   "mimetype": "text/x-python",
   "name": "python",
   "nbconvert_exporter": "python",
   "pygments_lexer": "ipython2",
   "version": "2.7.6"
  }
 },
 "nbformat": 4,
 "nbformat_minor": 0
}